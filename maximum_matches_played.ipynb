{
 "cells": [
  {
   "cell_type": "code",
   "execution_count": 2,
   "id": "c1a7230c",
   "metadata": {},
   "outputs": [],
   "source": [
    "import pandas as pd\n",
    "import numpy as np\n",
    "import matplotlib.pyplot as plt\n",
    "import seaborn as sns"
   ]
  },
  {
   "cell_type": "code",
   "execution_count": 3,
   "id": "c206485a",
   "metadata": {},
   "outputs": [],
   "source": [
    "df = pd.read_csv('IPL_Data/IPL_Matches_2008_2020.csv')"
   ]
  },
  {
   "cell_type": "markdown",
   "id": "30a8bfbc",
   "metadata": {},
   "source": [
    "### Data Sanitization\n",
    "Remove typo in the Franchise names"
   ]
  },
  {
   "cell_type": "code",
   "execution_count": 37,
   "id": "cf09a59b",
   "metadata": {},
   "outputs": [],
   "source": [
    "df = df.replace('Pune Warriors', 'Rising Pune Supergiants', regex=True)\n",
    "df = df.replace('Rising Pune Supergiants', 'Rising Pune Supergiant', regex=True)\n",
    "df = df.replace('Rising Pune Supergiant', 'Rising Pune Supergiants', regex=True)\n",
    "df = df.replace('Delhi Daredevils', 'Delhi Capitals', regex=True)\n",
    "df = df.replace('Sunrisers Hyderabad', 'Deccan Chargers', regex=True)"
   ]
  },
  {
   "cell_type": "markdown",
   "id": "599c6778",
   "metadata": {},
   "source": [
    "### Find the Team who has played the maximum number of matches from 2008 - 2020 "
   ]
  },
  {
   "cell_type": "code",
   "execution_count": 39,
   "id": "5f6d756b",
   "metadata": {},
   "outputs": [],
   "source": [
    "max_appearance =  df['team1'].value_counts() + df['team2'].value_counts()"
   ]
  },
  {
   "cell_type": "code",
   "execution_count": 40,
   "id": "8d120620",
   "metadata": {},
   "outputs": [
    {
     "data": {
      "text/plain": [
       "Chennai Super Kings            178\n",
       "Deccan Chargers                199\n",
       "Delhi Capitals                 194\n",
       "Gujarat Lions                   30\n",
       "Kings XI Punjab                190\n",
       "Kochi Tuskers Kerala            14\n",
       "Kolkata Knight Riders          192\n",
       "Mumbai Indians                 203\n",
       "Rajasthan Royals               161\n",
       "Rising Pune Supergiants         76\n",
       "Royal Challengers Bangalore    195\n",
       "dtype: int64"
      ]
     },
     "execution_count": 40,
     "metadata": {},
     "output_type": "execute_result"
    }
   ],
   "source": [
    "max_appearance"
   ]
  },
  {
   "cell_type": "code",
   "execution_count": 41,
   "id": "94f4c19a",
   "metadata": {},
   "outputs": [],
   "source": [
    "# Convert the Series into a Dataframe\n",
    "max_appearance_df = pd.DataFrame(max_appearance, columns=['count'])\n",
    "max_appearance_df['team'] = max_appearance_df.index\n",
    "max_appearance_df = max_appearance_df.reset_index()\n",
    "max_appearance_df.drop('index', axis=1, inplace=True)"
   ]
  },
  {
   "cell_type": "code",
   "execution_count": 42,
   "id": "4f88ec52",
   "metadata": {},
   "outputs": [
    {
     "data": {
      "text/html": [
       "<div>\n",
       "<style scoped>\n",
       "    .dataframe tbody tr th:only-of-type {\n",
       "        vertical-align: middle;\n",
       "    }\n",
       "\n",
       "    .dataframe tbody tr th {\n",
       "        vertical-align: top;\n",
       "    }\n",
       "\n",
       "    .dataframe thead th {\n",
       "        text-align: right;\n",
       "    }\n",
       "</style>\n",
       "<table border=\"1\" class=\"dataframe\">\n",
       "  <thead>\n",
       "    <tr style=\"text-align: right;\">\n",
       "      <th></th>\n",
       "      <th>count</th>\n",
       "      <th>team</th>\n",
       "    </tr>\n",
       "  </thead>\n",
       "  <tbody>\n",
       "    <tr>\n",
       "      <th>0</th>\n",
       "      <td>178</td>\n",
       "      <td>Chennai Super Kings</td>\n",
       "    </tr>\n",
       "    <tr>\n",
       "      <th>1</th>\n",
       "      <td>199</td>\n",
       "      <td>Deccan Chargers</td>\n",
       "    </tr>\n",
       "    <tr>\n",
       "      <th>2</th>\n",
       "      <td>194</td>\n",
       "      <td>Delhi Capitals</td>\n",
       "    </tr>\n",
       "    <tr>\n",
       "      <th>3</th>\n",
       "      <td>30</td>\n",
       "      <td>Gujarat Lions</td>\n",
       "    </tr>\n",
       "    <tr>\n",
       "      <th>4</th>\n",
       "      <td>190</td>\n",
       "      <td>Kings XI Punjab</td>\n",
       "    </tr>\n",
       "    <tr>\n",
       "      <th>5</th>\n",
       "      <td>14</td>\n",
       "      <td>Kochi Tuskers Kerala</td>\n",
       "    </tr>\n",
       "    <tr>\n",
       "      <th>6</th>\n",
       "      <td>192</td>\n",
       "      <td>Kolkata Knight Riders</td>\n",
       "    </tr>\n",
       "    <tr>\n",
       "      <th>7</th>\n",
       "      <td>203</td>\n",
       "      <td>Mumbai Indians</td>\n",
       "    </tr>\n",
       "    <tr>\n",
       "      <th>8</th>\n",
       "      <td>161</td>\n",
       "      <td>Rajasthan Royals</td>\n",
       "    </tr>\n",
       "    <tr>\n",
       "      <th>9</th>\n",
       "      <td>76</td>\n",
       "      <td>Rising Pune Supergiants</td>\n",
       "    </tr>\n",
       "    <tr>\n",
       "      <th>10</th>\n",
       "      <td>195</td>\n",
       "      <td>Royal Challengers Bangalore</td>\n",
       "    </tr>\n",
       "  </tbody>\n",
       "</table>\n",
       "</div>"
      ],
      "text/plain": [
       "    count                         team\n",
       "0     178          Chennai Super Kings\n",
       "1     199              Deccan Chargers\n",
       "2     194               Delhi Capitals\n",
       "3      30                Gujarat Lions\n",
       "4     190              Kings XI Punjab\n",
       "5      14         Kochi Tuskers Kerala\n",
       "6     192        Kolkata Knight Riders\n",
       "7     203               Mumbai Indians\n",
       "8     161             Rajasthan Royals\n",
       "9      76      Rising Pune Supergiants\n",
       "10    195  Royal Challengers Bangalore"
      ]
     },
     "execution_count": 42,
     "metadata": {},
     "output_type": "execute_result"
    }
   ],
   "source": [
    "max_appearance_df"
   ]
  },
  {
   "cell_type": "code",
   "execution_count": 43,
   "id": "6b04abe1",
   "metadata": {},
   "outputs": [],
   "source": [
    "max_appearance_df.sort_values(\"count\", axis = 0, ascending = False, inplace = True)"
   ]
  },
  {
   "cell_type": "code",
   "execution_count": 44,
   "id": "0e9d3591",
   "metadata": {},
   "outputs": [
    {
     "data": {
      "text/html": [
       "<div>\n",
       "<style scoped>\n",
       "    .dataframe tbody tr th:only-of-type {\n",
       "        vertical-align: middle;\n",
       "    }\n",
       "\n",
       "    .dataframe tbody tr th {\n",
       "        vertical-align: top;\n",
       "    }\n",
       "\n",
       "    .dataframe thead th {\n",
       "        text-align: right;\n",
       "    }\n",
       "</style>\n",
       "<table border=\"1\" class=\"dataframe\">\n",
       "  <thead>\n",
       "    <tr style=\"text-align: right;\">\n",
       "      <th></th>\n",
       "      <th>count</th>\n",
       "      <th>team</th>\n",
       "    </tr>\n",
       "  </thead>\n",
       "  <tbody>\n",
       "    <tr>\n",
       "      <th>7</th>\n",
       "      <td>203</td>\n",
       "      <td>Mumbai Indians</td>\n",
       "    </tr>\n",
       "    <tr>\n",
       "      <th>1</th>\n",
       "      <td>199</td>\n",
       "      <td>Deccan Chargers</td>\n",
       "    </tr>\n",
       "    <tr>\n",
       "      <th>10</th>\n",
       "      <td>195</td>\n",
       "      <td>Royal Challengers Bangalore</td>\n",
       "    </tr>\n",
       "    <tr>\n",
       "      <th>2</th>\n",
       "      <td>194</td>\n",
       "      <td>Delhi Capitals</td>\n",
       "    </tr>\n",
       "    <tr>\n",
       "      <th>6</th>\n",
       "      <td>192</td>\n",
       "      <td>Kolkata Knight Riders</td>\n",
       "    </tr>\n",
       "    <tr>\n",
       "      <th>4</th>\n",
       "      <td>190</td>\n",
       "      <td>Kings XI Punjab</td>\n",
       "    </tr>\n",
       "    <tr>\n",
       "      <th>0</th>\n",
       "      <td>178</td>\n",
       "      <td>Chennai Super Kings</td>\n",
       "    </tr>\n",
       "    <tr>\n",
       "      <th>8</th>\n",
       "      <td>161</td>\n",
       "      <td>Rajasthan Royals</td>\n",
       "    </tr>\n",
       "    <tr>\n",
       "      <th>9</th>\n",
       "      <td>76</td>\n",
       "      <td>Rising Pune Supergiants</td>\n",
       "    </tr>\n",
       "    <tr>\n",
       "      <th>3</th>\n",
       "      <td>30</td>\n",
       "      <td>Gujarat Lions</td>\n",
       "    </tr>\n",
       "    <tr>\n",
       "      <th>5</th>\n",
       "      <td>14</td>\n",
       "      <td>Kochi Tuskers Kerala</td>\n",
       "    </tr>\n",
       "  </tbody>\n",
       "</table>\n",
       "</div>"
      ],
      "text/plain": [
       "    count                         team\n",
       "7     203               Mumbai Indians\n",
       "1     199              Deccan Chargers\n",
       "10    195  Royal Challengers Bangalore\n",
       "2     194               Delhi Capitals\n",
       "6     192        Kolkata Knight Riders\n",
       "4     190              Kings XI Punjab\n",
       "0     178          Chennai Super Kings\n",
       "8     161             Rajasthan Royals\n",
       "9      76      Rising Pune Supergiants\n",
       "3      30                Gujarat Lions\n",
       "5      14         Kochi Tuskers Kerala"
      ]
     },
     "execution_count": 44,
     "metadata": {},
     "output_type": "execute_result"
    }
   ],
   "source": [
    "max_appearance_df"
   ]
  },
  {
   "cell_type": "code",
   "execution_count": 45,
   "id": "b33fe757",
   "metadata": {},
   "outputs": [
    {
     "data": {
      "image/png": "[encoded data removed]",
      "text/plain": [
       "<Figure size 640x480 with 1 Axes>"
      ]
     },
     "metadata": {},
     "output_type": "display_data"
    }
   ],
   "source": [
    "ax=sns.barplot(x='count', y='team', data=max_appearance_df)\n",
    "ax.set(xlabel=\"Number of Matches\", ylabel='Team')\n",
    "plt.grid() \n",
    "plt.show()"
   ]
  },
  {
   "cell_type": "code",
   "execution_count": null,
   "id": "c88a9770",
   "metadata": {},
   "outputs": [],
   "source": []
  }
 ],
 "metadata": {
  "kernelspec": {
   "display_name": "Python 3 (ipykernel)",
   "language": "python",
   "name": "python3"
  },
  "language_info": {
   "codemirror_mode": {
    "name": "ipython",
    "version": 3
   },
   "file_extension": ".py",
   "mimetype": "text/x-python",
   "name": "python",
   "nbconvert_exporter": "python",
   "pygments_lexer": "ipython3",
   "version": "3.9.13"
  }
 },
 "nbformat": 4,
 "nbformat_minor": 5
}
